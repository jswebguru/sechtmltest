{
 "cells": [
  {
   "cell_type": "code",
   "execution_count": 1,
   "metadata": {},
   "outputs": [
    {
     "data": {
      "text/html": [
       "\n",
       "                <script type=\"application/javascript\" id=\"jupyter_black\">\n",
       "                (function() {\n",
       "                    if (window.IPython === undefined) {\n",
       "                        return\n",
       "                    }\n",
       "                    var msg = \"WARNING: it looks like you might have loaded \" +\n",
       "                        \"jupyter_black in a non-lab notebook with \" +\n",
       "                        \"`is_lab=True`. Please double check, and if \" +\n",
       "                        \"loading with `%load_ext` please review the README!\"\n",
       "                    console.log(msg)\n",
       "                    alert(msg)\n",
       "                })()\n",
       "                </script>\n",
       "                "
      ],
      "text/plain": [
       "<IPython.core.display.HTML object>"
      ]
     },
     "metadata": {},
     "output_type": "display_data"
    }
   ],
   "source": [
    "import jupyter_black\n",
    "\n",
    "jupyter_black.load()"
   ]
  },
  {
   "cell_type": "code",
   "execution_count": 2,
   "metadata": {},
   "outputs": [
    {
     "data": {
      "text/plain": [
       "True"
      ]
     },
     "execution_count": 2,
     "metadata": {},
     "output_type": "execute_result"
    }
   ],
   "source": [
    "from pathlib import Path\n",
    "import csv\n",
    "import time\n",
    "from collections import namedtuple\n",
    "from sec_edgar_downloader import Downloader as SecEdgarDownloader\n",
    "from sec_downloader import DownloadStorage\n",
    "from dotenv import load_dotenv\n",
    "import os\n",
    "import glob\n",
    "import os\n",
    "import json\n",
    "import re\n",
    "from sec_api_io.secapio_data_retriever import SecapioDataRetriever\n",
    "from tqdm.notebook import tqdm\n",
    "\n",
    "load_dotenv()"
   ]
  },
  {
   "cell_type": "code",
   "execution_count": 3,
   "metadata": {},
   "outputs": [],
   "source": [
    "DOWNLOAD_PATH = Path(\"..\")"
   ]
  },
  {
   "cell_type": "code",
   "execution_count": 4,
   "metadata": {},
   "outputs": [],
   "source": [
    "Company = namedtuple(\"Ticker\", [\"name\", \"ticker\"])\n",
    "\n",
    "\n",
    "def get_company_list(path_str):\n",
    "    company_list = []\n",
    "    with Path(path_str).open(\"r\") as f:\n",
    "        reader = csv.reader(f)\n",
    "        next(reader)  # Skip the header\n",
    "        for row in reader:\n",
    "            assert (\n",
    "                len(row) == 2\n",
    "            ), f\"Expected 2 columns, got {len(row)} instead, row: {row}\"\n",
    "            company_list.append(Company(*row))\n",
    "    return company_list\n",
    "\n",
    "\n",
    "company_list = get_company_list(\"00_company-list.csv\")"
   ]
  },
  {
   "cell_type": "code",
   "execution_count": 5,
   "metadata": {},
   "outputs": [
    {
     "data": {
      "text/plain": [
       "False"
      ]
     },
     "execution_count": 5,
     "metadata": {},
     "output_type": "execute_result"
    }
   ],
   "source": [
    "def download_and_save(document_type, ticker) -> bool:\n",
    "    document_type = document_type.upper().strip()\n",
    "    ticker = ticker.upper().strip()\n",
    "\n",
    "    save_dir = DOWNLOAD_PATH / document_type / ticker\n",
    "    if save_dir.exists():\n",
    "        return False\n",
    "\n",
    "    storage = DownloadStorage(filter_pattern=\"**/*.htm*\")\n",
    "    with storage as path:\n",
    "        dl = SecEdgarDownloader(\"Alphanome.AI\", \"info@alphanome.ai\", path)\n",
    "        dl.get(document_type, ticker, limit=1, download_details=True)\n",
    "\n",
    "    files = storage.get_file_contents()\n",
    "    assert (\n",
    "        len(files) == 1\n",
    "    ), f\"Expected 1 file, got {len(files)} instead. Ticker: {ticker}\"\n",
    "    path, content = files[0]\n",
    "\n",
    "    report_id = path.parts[3]\n",
    "    save_path = save_dir / report_id / \"primary-document.html\"\n",
    "    save_path.parent.mkdir(parents=True, exist_ok=True)\n",
    "    with save_path.open(\"w\") as f:\n",
    "        f.write(content)\n",
    "    return True\n",
    "\n",
    "\n",
    "download_and_save(\"10-Q\", \"MSFT\")"
   ]
  },
  {
   "cell_type": "code",
   "execution_count": 6,
   "metadata": {},
   "outputs": [
    {
     "name": "stderr",
     "output_type": "stream",
     "text": [
      "100%|██████████| 108/108 [00:00<00:00, 91753.05it/s]\n"
     ]
    }
   ],
   "source": [
    "from tqdm import tqdm\n",
    "\n",
    "for company in tqdm(company_list):\n",
    "    downloaded = download_and_save(\"10-Q\", company.ticker)\n",
    "    if downloaded:\n",
    "        time.sleep(1 / 10)  # SEC EDGAR limits to 10 requests per second"
   ]
  },
  {
   "cell_type": "code",
   "execution_count": 7,
   "metadata": {},
   "outputs": [
    {
     "name": "stderr",
     "output_type": "stream",
     "text": [
      "100%|██████████| 72/72 [00:02<00:00, 35.16it/s]\n"
     ]
    }
   ],
   "source": [
    "def download_from_secapio(document_type, accession_number):\n",
    "    retriever = SecapioDataRetriever()\n",
    "    metadata = retriever.retrieve_report_metadata(\n",
    "        document_type, accession_number=accession_number\n",
    "    )\n",
    "    url = metadata[\"linkToFilingDetails\"]\n",
    "    assert url.startswith(\"https://www.sec.gov/Archives/edgar/data/\")\n",
    "    return retriever.get_report_html(document_type, url)\n",
    "\n",
    "\n",
    "def get_section_text(section_ids, content):\n",
    "    sections = []\n",
    "    for i in range(len(section_ids)):\n",
    "        section_end = (\n",
    "            \"<top-level-section-start-marker\" if i < len(section_ids) - 1 else \"$\"\n",
    "        )\n",
    "        section_text = re.findall(\n",
    "            r'<top-level-section-start-marker id=\"'\n",
    "            + section_ids[i]\n",
    "            + '\".*?</top-level-section-start-marker>(.*?)'\n",
    "            + section_end,\n",
    "            content,\n",
    "            re.DOTALL,\n",
    "        )\n",
    "        section_text = section_text[0] if section_text else \"\"\n",
    "        sections.append(\n",
    "            {\n",
    "                \"identifier\": section_ids[i],\n",
    "                \"character_count\": len(section_text.strip()),\n",
    "            }\n",
    "        )\n",
    "    return sections\n",
    "\n",
    "\n",
    "def write_sections_to_file(sections, anchor_file):\n",
    "    expected_sections_path = anchor_file.parent / \"expected-top-level-sections.json\"\n",
    "    with expected_sections_path.open(\"w\") as json_file:\n",
    "        json.dump(sections, json_file, indent=4)\n",
    "\n",
    "\n",
    "if \"SECAPIO_API_KEY\" in os.environ:\n",
    "    retriever = SecapioDataRetriever()\n",
    "    metadata = retriever.retrieve_report_metadata(\"10-Q\", latest_from_ticker=\"AAPL\")\n",
    "\n",
    "    anchor_files = list(DOWNLOAD_PATH.rglob(\"primary-document.html\"))\n",
    "    for anchor_file in tqdm(anchor_files):\n",
    "        accession_number = anchor_file.parent.name.replace(\"-\", \"\")\n",
    "\n",
    "        metadata_file_path = anchor_file.parent / \"metadata.json\"\n",
    "        if not metadata_file_path.exists():\n",
    "            input_metadata = retriever.retrieve_report_metadata(\n",
    "                \"10-Q\", accession_number=accession_number\n",
    "            )\n",
    "            secapio_metadata_file_path = anchor_file.parent / \"metadata-secapio.json\"\n",
    "            with secapio_metadata_file_path.open(\"w\") as json_file:\n",
    "                json.dump(input_metadata, json_file, indent=4)\n",
    "\n",
    "            output_metadata = {\n",
    "                \"filing_details_url\": metadata[\"linkToFilingDetails\"],\n",
    "                \"filed_at\": metadata[\"filedAt\"],\n",
    "                \"period_of_report\": metadata[\"periodOfReport\"],\n",
    "            }\n",
    "            with metadata_file_path.open(\"w\") as json_file:\n",
    "                json.dump(output_metadata, json_file, indent=4)\n",
    "\n",
    "        secapio_file_path = anchor_file.parent / \"primary-document-secapio.html\"\n",
    "        if not secapio_file_path.exists():\n",
    "            content = download_from_secapio(\"10-Q\", accession_number)\n",
    "            with secapio_file_path.open(\"w\") as f:\n",
    "                f.write(content)\n",
    "        with secapio_file_path.open(\"r\") as f:\n",
    "            content = f.read()\n",
    "        section_ids = re.findall(r'<top-level-section-start-marker id=\"(.*?)\"', content)\n",
    "        sections = get_section_text(section_ids, content)\n",
    "        write_sections_to_file(sections, anchor_file)\n",
    "else:\n",
    "    print(\"3rd party data will not be downloaded due to missing key.\")\n",
    "    print(\"Please create a .env file with your SECAPIO_API_KEY to download the data.\")"
   ]
  }
 ],
 "metadata": {
  "kernelspec": {
   "display_name": ".venv",
   "language": "python",
   "name": "python3"
  },
  "language_info": {
   "codemirror_mode": {
    "name": "ipython",
    "version": 3
   },
   "file_extension": ".py",
   "mimetype": "text/x-python",
   "name": "python",
   "nbconvert_exporter": "python",
   "pygments_lexer": "ipython3",
   "version": "3.11.4"
  },
  "orig_nbformat": 4
 },
 "nbformat": 4,
 "nbformat_minor": 2
}
