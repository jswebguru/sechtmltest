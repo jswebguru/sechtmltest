{
 "cells": [
  {
   "cell_type": "code",
   "execution_count": 1,
   "metadata": {},
   "outputs": [
    {
     "name": "stdout",
     "output_type": "stream",
     "text": [
      "Copied /Users/user/Development/sec-parser-test-data/10-Q/GOOG/0001652044-23-000094/expected-structure-and-text.json to /Users/user/Development/sec-parser-test-data/10-Q/GOOG/0001652044-23-000094/postprocess_expected_structure_and_text.py.original.json\n",
      "# Removed:\n",
      "Counter({'TitleElement': 55, 'TextElement': 38})\n",
      "\n",
      "# Included:\n",
      "Counter({'TextElement': 170,\n",
      "         'TitleElement': 135,\n",
      "         'TableElement': 63,\n",
      "         'SupplementaryText': 18,\n",
      "         'TopLevelSectionTitle': 11})\n"
     ]
    }
   ],
   "source": [
    "from postprocess_expected_structure_and_text import main\n",
    "main()"
   ]
  }
 ],
 "metadata": {
  "kernelspec": {
   "display_name": ".venv",
   "language": "python",
   "name": "python3"
  },
  "language_info": {
   "codemirror_mode": {
    "name": "ipython",
    "version": 3
   },
   "file_extension": ".py",
   "mimetype": "text/x-python",
   "name": "python",
   "nbconvert_exporter": "python",
   "pygments_lexer": "ipython3",
   "version": "3.11.4"
  }
 },
 "nbformat": 4,
 "nbformat_minor": 2
}
