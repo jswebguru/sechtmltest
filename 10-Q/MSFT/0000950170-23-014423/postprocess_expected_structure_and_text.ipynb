{
    "cells": [
        {
            "cell_type": "code",
            "execution_count": 1,
            "metadata": {},
            "outputs": [
                {
                    "name": "stdout",
                    "output_type": "stream",
                    "text": [
                        "# Removed:\n",
                        "Counter()\n",
                        "\n",
                        "# Included:\n",
                        "Counter({'TextElement': 176,\n",
                        "         'TitleElement': 142,\n",
                        "         'TableElement': 55,\n",
                        "         'SupplementaryText': 14,\n",
                        "         'TopSectionTitle': 10})\n"
                    ]
                }
            ],
            "source": [
                "from postprocess_expected_structure_and_text import main\n",
                "main()"
            ]
        }
    ],
    "metadata": {
        "kernelspec": {
            "display_name": ".venv",
            "language": "python",
            "name": "python3"
        },
        "language_info": {
            "codemirror_mode": {
                "name": "ipython",
                "version": 3
            },
            "file_extension": ".py",
            "mimetype": "text/x-python",
            "name": "python",
            "nbconvert_exporter": "python",
            "pygments_lexer": "ipython3",
            "version": "3.11.4"
        }
    },
    "nbformat": 4,
    "nbformat_minor": 2
}