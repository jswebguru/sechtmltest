{
 "cells": [
  {
   "cell_type": "code",
   "execution_count": 1,
   "metadata": {},
   "outputs": [
    {
     "name": "stdout",
     "output_type": "stream",
     "text": [
      "# Removed:\n",
      "Counter({'TitleElement': 69})\n",
      "\n",
      "# Included:\n",
      "Counter({'TextElement': 142,\n",
      "         'SupplementaryText': 71,\n",
      "         'TitleElement': 65,\n",
      "         'TableElement': 38,\n",
      "         'TopLevelSectionTitle': 10,\n",
      "         'ImageElement': 4})\n"
     ]
    }
   ],
   "source": [
    "from postprocess_expected_structure_and_text import main\n",
    "main()"
   ]
  }
 ],
 "metadata": {
  "kernelspec": {
   "display_name": ".venv",
   "language": "python",
   "name": "python3"
  },
  "language_info": {
   "codemirror_mode": {
    "name": "ipython",
    "version": 3
   },
   "file_extension": ".py",
   "mimetype": "text/x-python",
   "name": "python",
   "nbconvert_exporter": "python",
   "pygments_lexer": "ipython3",
   "version": "3.11.4"
  }
 },
 "nbformat": 4,
 "nbformat_minor": 2
}
